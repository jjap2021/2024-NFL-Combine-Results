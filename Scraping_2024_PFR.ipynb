{
 "cells": [
  {
   "cell_type": "code",
   "execution_count": 5,
   "id": "e53b4c45-8eb4-4c09-9fde-bb1ff52a4f8f",
   "metadata": {},
   "outputs": [],
   "source": [
    "import requests\n",
    "from bs4 import BeautifulSoup\n",
    "import pandas as pd\n",
    "\n",
    "url = 'https://www.pro-football-reference.com/draft/2024-combine.htm'\n",
    "\n",
    "r= requests.get(url)\n",
    "\n",
    "soup = BeautifulSoup(r.text,  'html.parser')"
   ]
  },
  {
   "cell_type": "code",
   "execution_count": 6,
   "id": "ef0d223c-791c-4013-bcd1-b754b1fdcbd1",
   "metadata": {},
   "outputs": [],
   "source": [
    "#setting up the next cell\n",
    "table = soup.find('table', {'id': 'combine'})\n",
    "#initializing the data\n",
    "data = []\n",
    "\n",
    "# sets up next ce\n",
    "rows = table.find_all('tr')"
   ]
  },
  {
   "cell_type": "code",
   "execution_count": 17,
   "id": "191c8e7b-a336-4943-8d64-14b782a5f8f0",
   "metadata": {},
   "outputs": [],
   "source": [
    "# Initialize list to put data\n",
    "data = []\n",
    "\n",
    "#loop through each row\n",
    "for row in rows:\n",
    "    row_data = {}\n",
    "    cells = row.find_all(['th', 'td'])\n",
    "    seen_stats = set()\n",
    "    for cell in cells:\n",
    "        data_stat = cell.get('data-stat')\n",
    "\n",
    "        if data_stat and data_stat not in seen_stats: #it was making copies of the data each time i ran it, this was part of the bug fixing to stop it\n",
    "            row_data[data_stat] = cell.text.strip()\n",
    "            seen_stats.add(data_stat)\n",
    "    if row_data:\n",
    "        data.append(row_data)\n",
    "\n",
    "#create df\n",
    "df = pd.DataFrame(data)\n",
    "\n",
    "#Drop the row that doesn't matter\n",
    "df = df.drop(0)\n",
    "\n",
    "df = df.drop_duplicates()\n",
    "\n",
    "#'pos' column to 'Pos' because of other url's\n",
    "df.rename(columns={'pos': 'Pos'}, inplace=True)\n",
    "\n",
    "# Ensure it works correctly\n",
    "# print(df)"
   ]
  },
  {
   "cell_type": "code",
   "execution_count": 19,
   "id": "1419b3e3",
   "metadata": {},
   "outputs": [],
   "source": [
    "positions = ['QB', 'RB', 'WR', 'TE', 'OT', 'G', 'C', 'EDGE', 'DT', 'DE', 'LB', 'CB', 'DB', 'K', 'P']\n",
    "\n",
    "#initialize dictionary\n",
    "filtered_dfs = {}\n",
    "\n",
    "# run over each position\n",
    "for position in positions:\n",
    "    if position == 'G':\n",
    "        filtered_dfs[position] = df[df['Pos'].isin(['G', 'OG', 'OL'])].copy()\n",
    "    elif position == 'DB':\n",
    "        filtered_dfs[position] = df[df['Pos'].isin(['SAF', 'DB', 'S'])].copy()\n",
    "    elif position == 'LB':\n",
    "        filtered_dfs[position] = df[df['Pos'].isin(['LB', 'ILB', 'OLB'])].copy()\n",
    "    elif position =='RB':\n",
    "        filtered_dfs[position] = df[df['Pos'].isin(['RB', 'FB'])]\n",
    "    elif position == 'C':\n",
    "        filtered_dfs[position] = df[df['Pos'].isin(['C', 'LS'])]\n",
    "    else:\n",
    "        filtered_dfs[position] = df[df['Pos'] == position].copy()\n",
    "\n",
    "# Access filtered DataFrames by position\n",
    "qb_df24 = filtered_dfs['QB']\n",
    "rb_df24 = filtered_dfs['RB']\n",
    "wr_df24 = filtered_dfs['WR']\n",
    "te_df24 = filtered_dfs['TE']\n",
    "ot_df24 = filtered_dfs['OT']\n",
    "g_df24 = filtered_dfs['G']\n",
    "c_df24 = filtered_dfs['C']\n",
    "edge_df24 = filtered_dfs['EDGE']\n",
    "dt_df24 = filtered_dfs['DT']\n",
    "de_df24 = filtered_dfs['DE']\n",
    "lb_df24 = filtered_dfs['LB']\n",
    "cb_df24 = filtered_dfs['CB']\n",
    "db_df24 = filtered_dfs['DB']\n",
    "k_df24 = filtered_dfs['K']\n",
    "p_df24 = filtered_dfs['P']\n",
    "\n",
    "# display(qb_df24)"
   ]
  },
  {
   "cell_type": "code",
   "execution_count": 20,
   "id": "770c8281",
   "metadata": {},
   "outputs": [],
   "source": [
    "# counts = {}\n",
    "\n",
    "# # Iterate over each position and count the number of rows in the corresponding DataFrame\n",
    "# total_count = 0\n",
    "# for position in positions:\n",
    "#     count = filtered_dfs[position].shape[0]\n",
    "#     counts[position] = count\n",
    "#     total_count += count\n",
    "\n",
    "# # Display the counts\n",
    "# for position, count in counts.items():\n",
    "#     print(f\"Number of players in {position}: {count}\")\n",
    "\n",
    "# # Display the total count\n",
    "# print(f\"Total number of players: {total_count}\")"
   ]
  },
  {
   "cell_type": "markdown",
   "id": "6290bc51",
   "metadata": {},
   "source": [
    "## Keeping the secion below because it's unfinished work and I want to run this file in another file"
   ]
  },
  {
   "cell_type": "code",
   "execution_count": 21,
   "id": "4f780362-6738-4b54-b09b-1eec559db922",
   "metadata": {},
   "outputs": [],
   "source": [
    "\n",
    "\n",
    "# #scraping college stats URLs\n",
    "# for row in rows:\n",
    "#     # Extract the cells from the row\n",
    "#     cells = row.find_all(\"td\")\n",
    "    \n",
    "#     # Check if the row has at least 3 columns\n",
    "#     if len(cells) > 2:\n",
    "#         # Find the first anchor tag in the third column\n",
    "#         link = cells[2].find(\"a\")\n",
    "        \n",
    "#         # Check if the anchor tag exists\n",
    "#         if link:\n",
    "#             college_url = link[\"href\"]\n",
    "#             print(\"College URL:\", college_url)\n",
    "#         else:\n",
    "#             print(\"No college URL found in this row.\")\n",
    "#     else:\n",
    "#         print(\"This row does not have enough columns.\")"
   ]
  }
 ],
 "metadata": {
  "kernelspec": {
   "display_name": "Python 3 (ipykernel)",
   "language": "python",
   "name": "python3"
  },
  "language_info": {
   "codemirror_mode": {
    "name": "ipython",
    "version": 3
   },
   "file_extension": ".py",
   "mimetype": "text/x-python",
   "name": "python",
   "nbconvert_exporter": "python",
   "pygments_lexer": "ipython3",
   "version": "3.11.5"
  }
 },
 "nbformat": 4,
 "nbformat_minor": 5
}
