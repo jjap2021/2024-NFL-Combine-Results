{
 "cells": [
  {
   "cell_type": "code",
   "execution_count": 1,
   "id": "e53b4c45-8eb4-4c09-9fde-bb1ff52a4f8f",
   "metadata": {},
   "outputs": [],
   "source": [
    "import requests\n",
    "from bs4 import BeautifulSoup\n",
    "import pandas as pd\n",
    "\n",
    "url = 'https://www.pro-football-reference.com/draft/2024-combine.htm'\n",
    "\n",
    "r= requests.get(url)\n",
    "\n",
    "soup = BeautifulSoup(r.text,  'html.parser')"
   ]
  },
  {
   "cell_type": "code",
   "execution_count": 2,
   "id": "ef0d223c-791c-4013-bcd1-b754b1fdcbd1",
   "metadata": {},
   "outputs": [],
   "source": [
    "#setting up the next cell\n",
    "table = soup.find('table', {'id': 'combine'})\n",
    "#initializing the data\n",
    "data = []\n",
    "\n",
    "# sets up next ce\n",
    "rows = table.find_all('tr')"
   ]
  },
  {
   "cell_type": "code",
   "execution_count": 3,
   "id": "191c8e7b-a336-4943-8d64-14b782a5f8f0",
   "metadata": {},
   "outputs": [],
   "source": [
    "#important webscraping loop, variables in the wonderful html code. This part takes the most time to those not used to it.\n",
    "for row in rows:\n",
    "    row_data = {}\n",
    "    cells = row.find_all(['th', 'td'])\n",
    "    for cell in cells:\n",
    "        data_stat = cell.get('data-stat')\n",
    "        if data_stat:\n",
    "            row_data[data_stat] = cell.text.strip()\n",
    "    if row_data:\n",
    "        data.append(row_data)\n",
    "\n",
    "#save to a dataframe\n",
    "df = pd.DataFrame(data)\n",
    "\n",
    "#drops the row that doesnt matter\n",
    "df = df.drop(0)\n",
    "\n",
    "#ensure it works correctly\n",
    "# display(df)"
   ]
  },
  {
   "cell_type": "markdown",
   "id": "6290bc51",
   "metadata": {},
   "source": [
    "## Keeping the secion below because it's unfinished work and I want to run this file in another file"
   ]
  },
  {
   "cell_type": "code",
   "execution_count": 4,
   "id": "4f780362-6738-4b54-b09b-1eec559db922",
   "metadata": {},
   "outputs": [],
   "source": [
    "\n",
    "\n",
    "# #scraping college stats URLs\n",
    "# for row in rows:\n",
    "#     # Extract the cells from the row\n",
    "#     cells = row.find_all(\"td\")\n",
    "    \n",
    "#     # Check if the row has at least 3 columns\n",
    "#     if len(cells) > 2:\n",
    "#         # Find the first anchor tag in the third column\n",
    "#         link = cells[2].find(\"a\")\n",
    "        \n",
    "#         # Check if the anchor tag exists\n",
    "#         if link:\n",
    "#             college_url = link[\"href\"]\n",
    "#             print(\"College URL:\", college_url)\n",
    "#         else:\n",
    "#             print(\"No college URL found in this row.\")\n",
    "#     else:\n",
    "#         print(\"This row does not have enough columns.\")"
   ]
  },
  {
   "cell_type": "code",
   "execution_count": null,
   "id": "32028b08",
   "metadata": {},
   "outputs": [],
   "source": []
  }
 ],
 "metadata": {
  "kernelspec": {
   "display_name": "Python 3 (ipykernel)",
   "language": "python",
   "name": "python3"
  },
  "language_info": {
   "codemirror_mode": {
    "name": "ipython",
    "version": 3
   },
   "file_extension": ".py",
   "mimetype": "text/x-python",
   "name": "python",
   "nbconvert_exporter": "python",
   "pygments_lexer": "ipython3",
   "version": "3.11.5"
  }
 },
 "nbformat": 4,
 "nbformat_minor": 5
}
